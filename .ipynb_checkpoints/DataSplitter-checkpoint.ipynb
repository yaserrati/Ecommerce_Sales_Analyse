{
 "cells": [
  {
   "cell_type": "code",
   "execution_count": 10,
   "id": "658b9fb1",
   "metadata": {},
   "outputs": [],
   "source": [
    "import pandas as pd\n",
    "import numpy as np\n",
    "import pyodbc"
   ]
  },
  {
   "cell_type": "code",
   "execution_count": 11,
   "id": "4d6805ae",
   "metadata": {},
   "outputs": [
    {
     "data": {
      "text/html": [
       "<div>\n",
       "<style scoped>\n",
       "    .dataframe tbody tr th:only-of-type {\n",
       "        vertical-align: middle;\n",
       "    }\n",
       "\n",
       "    .dataframe tbody tr th {\n",
       "        vertical-align: top;\n",
       "    }\n",
       "\n",
       "    .dataframe thead th {\n",
       "        text-align: right;\n",
       "    }\n",
       "</style>\n",
       "<table border=\"1\" class=\"dataframe\">\n",
       "  <thead>\n",
       "    <tr style=\"text-align: right;\">\n",
       "      <th></th>\n",
       "      <th>User ID</th>\n",
       "      <th>Subscription Type</th>\n",
       "      <th>Monthly Revenue</th>\n",
       "      <th>Country</th>\n",
       "      <th>Age</th>\n",
       "      <th>Gender</th>\n",
       "      <th>Device</th>\n",
       "      <th>Plan Duration</th>\n",
       "    </tr>\n",
       "  </thead>\n",
       "  <tbody>\n",
       "    <tr>\n",
       "      <th>0</th>\n",
       "      <td>1</td>\n",
       "      <td>Basic</td>\n",
       "      <td>10</td>\n",
       "      <td>United States</td>\n",
       "      <td>28</td>\n",
       "      <td>Male</td>\n",
       "      <td>Smartphone</td>\n",
       "      <td>1 Month</td>\n",
       "    </tr>\n",
       "    <tr>\n",
       "      <th>1</th>\n",
       "      <td>2</td>\n",
       "      <td>Premium</td>\n",
       "      <td>15</td>\n",
       "      <td>Canada</td>\n",
       "      <td>35</td>\n",
       "      <td>Female</td>\n",
       "      <td>Tablet</td>\n",
       "      <td>1 Month</td>\n",
       "    </tr>\n",
       "    <tr>\n",
       "      <th>2</th>\n",
       "      <td>3</td>\n",
       "      <td>Standard</td>\n",
       "      <td>12</td>\n",
       "      <td>United Kingdom</td>\n",
       "      <td>42</td>\n",
       "      <td>Male</td>\n",
       "      <td>Smart TV</td>\n",
       "      <td>1 Month</td>\n",
       "    </tr>\n",
       "    <tr>\n",
       "      <th>3</th>\n",
       "      <td>4</td>\n",
       "      <td>Standard</td>\n",
       "      <td>12</td>\n",
       "      <td>Australia</td>\n",
       "      <td>51</td>\n",
       "      <td>Female</td>\n",
       "      <td>Laptop</td>\n",
       "      <td>1 Month</td>\n",
       "    </tr>\n",
       "    <tr>\n",
       "      <th>4</th>\n",
       "      <td>5</td>\n",
       "      <td>Basic</td>\n",
       "      <td>10</td>\n",
       "      <td>Germany</td>\n",
       "      <td>33</td>\n",
       "      <td>Male</td>\n",
       "      <td>Smartphone</td>\n",
       "      <td>1 Month</td>\n",
       "    </tr>\n",
       "  </tbody>\n",
       "</table>\n",
       "</div>"
      ],
      "text/plain": [
       "   User ID Subscription Type  Monthly Revenue         Country  Age  Gender   \n",
       "0        1             Basic               10   United States   28    Male  \\\n",
       "1        2           Premium               15          Canada   35  Female   \n",
       "2        3          Standard               12  United Kingdom   42    Male   \n",
       "3        4          Standard               12       Australia   51  Female   \n",
       "4        5             Basic               10         Germany   33    Male   \n",
       "\n",
       "       Device Plan Duration  \n",
       "0  Smartphone       1 Month  \n",
       "1      Tablet       1 Month  \n",
       "2    Smart TV       1 Month  \n",
       "3      Laptop       1 Month  \n",
       "4  Smartphone       1 Month  "
      ]
     },
     "execution_count": 11,
     "metadata": {},
     "output_type": "execute_result"
    }
   ],
   "source": [
    "df=pd.read_csv('ecommerce-data.csv')\n",
    "df.head()"
   ]
  },
  {
   "cell_type": "code",
   "execution_count": 12,
   "id": "06af9827",
   "metadata": {},
   "outputs": [
    {
     "name": "stdout",
     "output_type": "stream",
     "text": [
      "Enter json percentage from 0 to 1: 0.3\n",
      "Enter database percentage from 0 to 1: 0.4\n"
     ]
    }
   ],
   "source": [
    "# Shuffle the data\n",
    "df_shuffled = df.sample(frac=1, random_state=42)\n",
    "\n",
    "\n",
    "#input db_percentage et json_percentage\n",
    "json_percentage = float(input('Enter json percentage from 0 to 1: '))\n",
    "db_percentage = float(input('Enter database percentage from 0 to 1: '))\n",
    "\n",
    "# Calculate the number of rows for each destination\n",
    "total_rows = df_shuffled.shape[0]\n",
    "json_rows = int(json_percentage * total_rows)\n",
    "database_rows = int(db_percentage * total_rows)\n",
    "csv_rows = total_rows - json_rows - database_rows\n",
    "\n",
    "# Split the data into JSON, database, and CSV parts\n",
    "df_json = df_shuffled.iloc[:json_rows]\n",
    "df_database = df_shuffled.iloc[json_rows:json_rows+database_rows]\n",
    "df_csv = df_shuffled.iloc[json_rows+database_rows:]"
   ]
  },
  {
   "cell_type": "code",
   "execution_count": 13,
   "id": "1df5ca46",
   "metadata": {},
   "outputs": [
    {
     "data": {
      "text/html": [
       "<div>\n",
       "<style scoped>\n",
       "    .dataframe tbody tr th:only-of-type {\n",
       "        vertical-align: middle;\n",
       "    }\n",
       "\n",
       "    .dataframe tbody tr th {\n",
       "        vertical-align: top;\n",
       "    }\n",
       "\n",
       "    .dataframe thead th {\n",
       "        text-align: right;\n",
       "    }\n",
       "</style>\n",
       "<table border=\"1\" class=\"dataframe\">\n",
       "  <thead>\n",
       "    <tr style=\"text-align: right;\">\n",
       "      <th></th>\n",
       "      <th>User ID</th>\n",
       "      <th>Subscription Type</th>\n",
       "      <th>Monthly Revenue</th>\n",
       "      <th>Country</th>\n",
       "      <th>Age</th>\n",
       "      <th>Gender</th>\n",
       "      <th>Device</th>\n",
       "      <th>Plan Duration</th>\n",
       "    </tr>\n",
       "  </thead>\n",
       "  <tbody>\n",
       "    <tr>\n",
       "      <th>1552</th>\n",
       "      <td>1553</td>\n",
       "      <td>Standard</td>\n",
       "      <td>12</td>\n",
       "      <td>United States</td>\n",
       "      <td>39</td>\n",
       "      <td>Male</td>\n",
       "      <td>Tablet</td>\n",
       "      <td>1 Month</td>\n",
       "    </tr>\n",
       "    <tr>\n",
       "      <th>2290</th>\n",
       "      <td>2291</td>\n",
       "      <td>Premium</td>\n",
       "      <td>11</td>\n",
       "      <td>United States</td>\n",
       "      <td>31</td>\n",
       "      <td>Female</td>\n",
       "      <td>Laptop</td>\n",
       "      <td>1 Month</td>\n",
       "    </tr>\n",
       "    <tr>\n",
       "      <th>1398</th>\n",
       "      <td>1399</td>\n",
       "      <td>Premium</td>\n",
       "      <td>12</td>\n",
       "      <td>Spain</td>\n",
       "      <td>31</td>\n",
       "      <td>Female</td>\n",
       "      <td>Smart TV</td>\n",
       "      <td>1 Month</td>\n",
       "    </tr>\n",
       "    <tr>\n",
       "      <th>1775</th>\n",
       "      <td>1776</td>\n",
       "      <td>Premium</td>\n",
       "      <td>15</td>\n",
       "      <td>Spain</td>\n",
       "      <td>27</td>\n",
       "      <td>Female</td>\n",
       "      <td>Smart TV</td>\n",
       "      <td>1 Month</td>\n",
       "    </tr>\n",
       "    <tr>\n",
       "      <th>2299</th>\n",
       "      <td>2300</td>\n",
       "      <td>Basic</td>\n",
       "      <td>13</td>\n",
       "      <td>Italy</td>\n",
       "      <td>42</td>\n",
       "      <td>Female</td>\n",
       "      <td>Tablet</td>\n",
       "      <td>1 Month</td>\n",
       "    </tr>\n",
       "  </tbody>\n",
       "</table>\n",
       "</div>"
      ],
      "text/plain": [
       "      User ID Subscription Type  Monthly Revenue        Country  Age  Gender   \n",
       "1552     1553          Standard               12  United States   39    Male  \\\n",
       "2290     2291           Premium               11  United States   31  Female   \n",
       "1398     1399           Premium               12          Spain   31  Female   \n",
       "1775     1776           Premium               15          Spain   27  Female   \n",
       "2299     2300             Basic               13          Italy   42  Female   \n",
       "\n",
       "        Device Plan Duration  \n",
       "1552    Tablet       1 Month  \n",
       "2290    Laptop       1 Month  \n",
       "1398  Smart TV       1 Month  \n",
       "1775  Smart TV       1 Month  \n",
       "2299    Tablet       1 Month  "
      ]
     },
     "execution_count": 13,
     "metadata": {},
     "output_type": "execute_result"
    }
   ],
   "source": [
    "df_database.head()"
   ]
  },
  {
   "cell_type": "code",
   "execution_count": 14,
   "id": "75214ef0",
   "metadata": {},
   "outputs": [],
   "source": [
    "# Save the splits to their respective destinations (JSON, database, and CSV)\n",
    "df_json.to_json('ecommerce-data.json', orient='records', lines=True)\n",
    "df_csv.to_csv('ecommerce-datacsv.csv', index=False, header=False)"
   ]
  },
  {
   "cell_type": "code",
   "execution_count": 15,
   "id": "c8991768",
   "metadata": {},
   "outputs": [],
   "source": [
    "# Créez la connexion\n",
    "connection = pyodbc.connect('DRIVER={SQL SERVER} ;SERVER=LAPTOP-QJ16KG8Q\\SQLEXPRESS;DATABASE=Netflixuserbase')\n",
    "\n",
    "# Create a cursor to execute SQL queries\n",
    "cursor = connection.cursor()"
   ]
  },
  {
   "cell_type": "code",
   "execution_count": 16,
   "id": "8ba879cf",
   "metadata": {},
   "outputs": [
    {
     "data": {
      "text/plain": [
       "<pyodbc.Cursor at 0x1eebaf570b0>"
      ]
     },
     "execution_count": 16,
     "metadata": {},
     "output_type": "execute_result"
    }
   ],
   "source": [
    "cursor.execute('''\n",
    "    CREATE TABLE [NetflixuserBase] (\n",
    "        [UserID] INT,\n",
    "        [Subscription Type] NVARCHAR(55),\n",
    "        [Monthly Revenue] INT,\n",
    "        [Join Date] DATE,\n",
    "        [Last Payment] DATE,\n",
    "        [Country] NVARCHAR(55),\n",
    "        [Age] INT,\n",
    "        [Gender] NVARCHAR(55),\n",
    "        [Device] NVARCHAR(55),\n",
    "        [Plan Duration] NVARCHAR(55),\n",
    "        PRIMARY KEY ([UserID])\n",
    "    );\n",
    "''')"
   ]
  },
  {
   "cell_type": "code",
   "execution_count": 17,
   "id": "8663a7d6",
   "metadata": {},
   "outputs": [],
   "source": [
    "# Insert data into the dbpart table\n",
    "for row in df_database.itertuples():\n",
    "    # Check if the person_id already exists in the table\n",
    "    cursor.execute('SELECT COUNT(*) FROM [Netflixuserbase] WHERE [UserID] = ?', (row[1],))\n",
    "    count = cursor.fetchone()[0]\n",
    "    \n",
    "    if count == 0:\n",
    "        # Insert the record if it doesn't exist\n",
    "        cursor.execute('INSERT INTO Netflixuserbase ([UserID], [Subscription Type], [Monthly Revenue], [Country], [Age], [Gender], [Device], [Plan Duration]) VALUES (?, ?, ?, ?, ?, ?, ?, ?)', (row[1], row[2], row[3], row[4], row[5], row[6], row[7], row[8]))\n",
    "\n",
    "connection.commit()"
   ]
  },
  {
   "cell_type": "code",
   "execution_count": 19,
   "id": "8776cab8",
   "metadata": {},
   "outputs": [
    {
     "ename": "ProgrammingError",
     "evalue": "Attempt to use a closed cursor.",
     "output_type": "error",
     "traceback": [
      "\u001b[1;31m---------------------------------------------------------------------------\u001b[0m",
      "\u001b[1;31mProgrammingError\u001b[0m                          Traceback (most recent call last)",
      "Cell \u001b[1;32mIn[19], line 2\u001b[0m\n\u001b[0;32m      1\u001b[0m \u001b[38;5;66;03m# Close the connection\u001b[39;00m\n\u001b[1;32m----> 2\u001b[0m \u001b[43mcursor\u001b[49m\u001b[38;5;241;43m.\u001b[39;49m\u001b[43mclose\u001b[49m\u001b[43m(\u001b[49m\u001b[43m)\u001b[49m\n\u001b[0;32m      3\u001b[0m connection\u001b[38;5;241m.\u001b[39mclose()\n",
      "\u001b[1;31mProgrammingError\u001b[0m: Attempt to use a closed cursor."
     ]
    }
   ],
   "source": [
    "# Close the connection\n",
    "cursor.close()\n",
    "connection.close()"
   ]
  }
 ],
 "metadata": {
  "kernelspec": {
   "display_name": "Python 3 (ipykernel)",
   "language": "python",
   "name": "python3"
  },
  "language_info": {
   "codemirror_mode": {
    "name": "ipython",
    "version": 3
   },
   "file_extension": ".py",
   "mimetype": "text/x-python",
   "name": "python",
   "nbconvert_exporter": "python",
   "pygments_lexer": "ipython3",
   "version": "3.10.10"
  },
  "vp": {
   "vp_config_version": "1.0.0",
   "vp_menu_width": 273,
   "vp_note_display": false,
   "vp_note_width": 0,
   "vp_position": {
    "width": 278
   },
   "vp_section_display": false,
   "vp_signature": "VisualPython"
  }
 },
 "nbformat": 4,
 "nbformat_minor": 5
}
